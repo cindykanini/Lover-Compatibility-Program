{
 "cells": [
  {
   "cell_type": "markdown",
   "id": "d4237a3b",
   "metadata": {},
   "source": [
    " ljAsk first names of couples\n",
    "\n",
    "Ask second names of couples\n",
    "\n",
    "Determine their compatibility depending on:\n",
    "\n",
    "A. Count letters \"True\" present in first names combined\n",
    "\n",
    "Add 5 if any/both first names start with letter \"l\" B. Count letters \"True\" present in second names combined\n",
    "\n",
    "Add 5 if any/both first names start with letter \"l\" C. Combine (NB: not add) results from A and B above\n",
    "\n",
    "D. If results from C are:\n",
    "\n",
    "Less than 30, print out \"Your rating is X. You are basically single\"\n",
    "\n",
    "30 and above but less than 60, print \"Your rating is X. You have something, but serious aint it\"\n",
    "\n",
    "60 and above but less than 80, print \"Your rating is X. I wish I had a love like your\"\n",
    "\n",
    "Above 80, print \"Your rating is X. You wish!!!\"\n",
    "\n",
    "compatibility()"
   ]
  },
  {
   "cell_type": "code",
   "execution_count": 2,
   "id": "985c5a18",
   "metadata": {},
   "outputs": [],
   "source": [
    "def compatibility():\n",
    "    while True:\n",
    "        #Asking first names of couples\n",
    "        fname1 = input(\"Enter the first name of one partner \")\n",
    "        fname2 = input(\"Enter the first name of the second partner \")\n",
    "        fname1 = fname1.lower()\n",
    "        fname2 = fname2.lower()\n",
    "        #Asking second names of couples\n",
    "        sname1 = input(\"Enter the second name of one partner \")\n",
    "        sname2 = input(\"Enter the second name of the second partner \")\n",
    "        sname1 = sname1.lower()\n",
    "        sname2 = sname2.lower()\n",
    "        #Determining their compatibility depending on:\n",
    "        #Count letters \"True\" present in first names combined\n",
    "        #Adding 5 if any/both first names start with letter \"l\"\n",
    "        count_fname1 = fname1.count(\"l\")\n",
    "        count_fname2 = fname2.count(\"l\")\n",
    "        count_sname1 = sname1.count(\"l\")\n",
    "        count_sname2 = sname2.count(\"l\")\n",
    "        if (\"l\" in fname1[0]) or (\"l\" in fname2[0]):\n",
    "            count_fnames=count_fname1+count_fname2\n",
    "            new_fname_count=count_fnames+5 \n",
    "            if(\"l\" in sname1[0]) or (\"l\" in sname2[0]):\n",
    "                count_snames=count_sname1+count_sname2\n",
    "                new_sname_count=count_snames+5\n",
    "                cnames= int(f\"{new_fname_count}{new_sname_count}\")\n",
    "                print( cnames)\n",
    "                if cnames<30:\n",
    "                    print(f\"Your rating is {cnames}. You are basically single!\")\n",
    "                elif cnames>60 and cnames<80:\n",
    "                        print(f\"Your rating is {cnames}. I wish I had a love like yours\")\n",
    "                else:\n",
    "                    print(f\"Your rating is {cnames}. You wish!!!\") \n",
    "                    break"
   ]
  },
  {
   "cell_type": "code",
   "execution_count": null,
   "id": "3f1ef118",
   "metadata": {},
   "outputs": [
    {
     "name": "stdout",
     "output_type": "stream",
     "text": [
      "Enter the first name of one partner kelvin\n",
      "Enter the first name of the second partner lena\n",
      "Enter the second name of one partner justin\n",
      "Enter the second name of the second partner lester\n",
      "76\n",
      "Your rating is 76. I wish I had a love like yours\n"
     ]
    }
   ],
   "source": [
    "compatibility()"
   ]
  },
  {
   "cell_type": "code",
   "execution_count": null,
   "id": "207ca668",
   "metadata": {},
   "outputs": [],
   "source": []
  }
 ],
 "metadata": {
  "kernelspec": {
   "display_name": "Python 3 (ipykernel)",
   "language": "python",
   "name": "python3"
  },
  "language_info": {
   "codemirror_mode": {
    "name": "ipython",
    "version": 3
   },
   "file_extension": ".py",
   "mimetype": "text/x-python",
   "name": "python",
   "nbconvert_exporter": "python",
   "pygments_lexer": "ipython3",
   "version": "3.9.7"
  }
 },
 "nbformat": 4,
 "nbformat_minor": 5
}
